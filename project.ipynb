{
 "cells": [
  {
   "cell_type": "markdown",
   "id": "e36ef635",
   "metadata": {},
   "source": [
    "Overian Cancer Prediction"
   ]
  },
  {
   "cell_type": "code",
   "execution_count": 1,
   "id": "7f4f21d7",
   "metadata": {},
   "outputs": [
    {
     "name": "stdout",
     "output_type": "stream",
     "text": [
      "<class 'pandas.core.frame.DataFrame'>\n",
      "RangeIndex: 349 entries, 0 to 348\n",
      "Data columns (total 51 columns):\n",
      " #   Column      Non-Null Count  Dtype  \n",
      "---  ------      --------------  -----  \n",
      " 0   SUBJECT_ID  349 non-null    int64  \n",
      " 1   AFP         325 non-null    float64\n",
      " 2   AG          348 non-null    float64\n",
      " 3   Age         349 non-null    int64  \n",
      " 4   ALB         339 non-null    float64\n",
      " 5   ALP         339 non-null    float64\n",
      " 6   ALT         339 non-null    float64\n",
      " 7   AST         339 non-null    float64\n",
      " 8   BASO#       349 non-null    float64\n",
      " 9   BASO%       349 non-null    float64\n",
      " 10  BUN         349 non-null    float64\n",
      " 11  Ca          349 non-null    float64\n",
      " 12  CA125       330 non-null    float64\n",
      " 13  CA19-9      315 non-null    float64\n",
      " 14  CA72-4      109 non-null    float64\n",
      " 15  CEA         327 non-null    float64\n",
      " 16  CL          349 non-null    float64\n",
      " 17  CO2CP       348 non-null    float64\n",
      " 18  CREA        349 non-null    float64\n",
      " 19  TYPE        349 non-null    int64  \n",
      " 20  DBIL        339 non-null    float64\n",
      " 21  EO#         349 non-null    float64\n",
      " 22  EO%         349 non-null    float64\n",
      " 23  GGT         339 non-null    float64\n",
      " 24  GLO         339 non-null    float64\n",
      " 25  GLU.        349 non-null    float64\n",
      " 26  HCT         349 non-null    float64\n",
      " 27  HE4         329 non-null    float64\n",
      " 28  HGB         349 non-null    float64\n",
      " 29  IBIL        339 non-null    float64\n",
      " 30  K           349 non-null    float64\n",
      " 31  LYM#        349 non-null    float64\n",
      " 32  LYM%        349 non-null    float64\n",
      " 33  MCH         349 non-null    float64\n",
      " 34  MCV         349 non-null    float64\n",
      " 35  Menopause   349 non-null    int64  \n",
      " 36  Mg          349 non-null    float64\n",
      " 37  MONO#       349 non-null    float64\n",
      " 38  MONO%       349 non-null    float64\n",
      " 39  MPV         347 non-null    float64\n",
      " 40  Na          349 non-null    float64\n",
      " 41  NEU         258 non-null    float64\n",
      " 42  PCT         347 non-null    float64\n",
      " 43  PDW         347 non-null    float64\n",
      " 44  PHOS        349 non-null    float64\n",
      " 45  PLT         349 non-null    int64  \n",
      " 46  RBC         349 non-null    float64\n",
      " 47  RDW         349 non-null    float64\n",
      " 48  TBIL        339 non-null    float64\n",
      " 49  TP          339 non-null    float64\n",
      " 50  UA          349 non-null    float64\n",
      "dtypes: float64(46), int64(5)\n",
      "memory usage: 139.2 KB\n",
      "None\n"
     ]
    },
    {
     "name": "stderr",
     "output_type": "stream",
     "text": [
      "C:\\Users\\LENOVO\\AppData\\Local\\Temp\\ipykernel_20208\\4034247224.py:18: FutureWarning: DataFrame.applymap has been deprecated. Use DataFrame.map instead.\n",
      "  cleaned_data = raw_data.applymap(lambda x: str(x).strip() if isinstance(x, str) else x)\n"
     ]
    }
   ],
   "source": [
    "import pandas as pd\n",
    "import numpy as np\n",
    "import matplotlib.pyplot as plt\n",
    "import seaborn as sns\n",
    "from sklearn.model_selection import train_test_split\n",
    "from sklearn.ensemble import RandomForestClassifier\n",
    "from sklearn.metrics import classification_report, accuracy_score,confusion_matrix\n",
    "from sklearn.impute import SimpleImputer\n",
    "from sklearn.preprocessing import StandardScaler\n",
    "from sklearn.feature_selection import SelectKBest, f_classif\n",
    "\n",
    "# Load the dataset\n",
    "file_path = 'Supplementary data 1.xlsx'  # Replace with your local file path\n",
    "data = pd.ExcelFile(file_path)\n",
    "raw_data = data.parse('All Raw Data')\n",
    "\n",
    "# Data cleaning\n",
    "cleaned_data = raw_data.applymap(lambda x: str(x).strip() if isinstance(x, str) else x)\n",
    "cleaned_data = cleaned_data.apply(pd.to_numeric, errors='coerce')\n",
    "\n",
    "# Verify the data structure\n",
    "print(cleaned_data.info())\n"
   ]
  },
  {
   "cell_type": "code",
   "execution_count": 3,
   "id": "4cb3c35c",
   "metadata": {},
   "outputs": [
    {
     "name": "stdout",
     "output_type": "stream",
     "text": [
      "Unique values in TYPE column: [0 1]\n",
      "Value counts:\n",
      " TYPE\n",
      "1    178\n",
      "0    171\n",
      "Name: count, dtype: int64\n"
     ]
    }
   ],
   "source": [
    "# Check unique values in 'TYPE'\n",
    "print(\"Unique values in TYPE column:\", cleaned_data['TYPE'].unique())\n",
    "\n",
    "# Value counts in the target variable\n",
    "print(\"Value counts:\\n\", cleaned_data['TYPE'].value_counts())\n"
   ]
  },
  {
   "cell_type": "code",
   "execution_count": 5,
   "id": "0c2fd1eb",
   "metadata": {},
   "outputs": [],
   "source": [
    "# Impute missing values with the median\n",
    "imputer = SimpleImputer(strategy='mean')\n",
    "cleaned_data_imputed = pd.DataFrame(imputer.fit_transform(cleaned_data), columns=cleaned_data.columns)\n"
   ]
  },
  {
   "cell_type": "code",
   "execution_count": 6,
   "id": "22611ced",
   "metadata": {},
   "outputs": [
    {
     "name": "stdout",
     "output_type": "stream",
     "text": [
      "Selected features: Index(['Age', 'ALB', 'CA125', 'HE4', 'LYM#', 'LYM%', 'Menopause', 'NEU', 'PCT',\n",
      "       'PLT'],\n",
      "      dtype='object')\n"
     ]
    }
   ],
   "source": [
    "# Separate features and target\n",
    "X = cleaned_data_imputed.drop(['TYPE', 'SUBJECT_ID'], axis=1)\n",
    "y = cleaned_data_imputed['TYPE']\n",
    "\n",
    "# Select top 10 features based on ANOVA F-test\n",
    "selector = SelectKBest(score_func=f_classif, k=10)\n",
    "X_selected = selector.fit_transform(X, y)\n",
    "selected_features = X.columns[selector.get_support()]\n",
    "print(\"Selected features:\", selected_features)\n"
   ]
  },
  {
   "cell_type": "code",
   "execution_count": 7,
   "id": "78f77e84",
   "metadata": {},
   "outputs": [],
   "source": [
    "X_train, X_test, y_train, y_test = train_test_split(X_selected, y, test_size=0.2, random_state=42)\n"
   ]
  },
  {
   "cell_type": "code",
   "execution_count": 8,
   "id": "985c1b43",
   "metadata": {},
   "outputs": [],
   "source": [
    "from sklearn.model_selection import GridSearchCV, RandomizedSearchCV\n",
    "from sklearn.ensemble import RandomForestClassifier\n",
    "from sklearn.metrics import accuracy_score, classification_report\n"
   ]
  },
  {
   "cell_type": "code",
   "execution_count": null,
   "id": "bbfa328f",
   "metadata": {},
   "outputs": [],
   "source": [
    "# Define the model\n",
    "model = RandomForestClassifier(random_state=42)\n",
    "\n",
    "# Define the hyperparameter grid\n",
    "param_grid = {\n",
    "    'n_estimators': [50, 100, 200, 500],          # Number of trees\n",
    "    'max_depth': [None, 10, 20, 30],              # Maximum depth of trees\n",
    "    'min_samples_split': [2, 5, 10],              # Minimum number of samples required to split an internal node\n",
    "    'min_samples_leaf': [1, 2, 4],                # Minimum number of samples required to be at a leaf node\n",
    "    'max_features': ['sqrt', 'log2', None],       # Number of features to consider at each split\n",
    "    'bootstrap': [True, False],                   # Whether bootstrap samples are used\n",
    "}\n",
    "\n",
    "# Use RandomizedSearchCV for efficiency\n",
    "random_search = RandomizedSearchCV(\n",
    "    estimator=model,\n",
    "    param_distributions=param_grid,\n",
    "    n_iter=50,       # Number of combinations to try\n",
    "    cv=5,            # 5-fold cross-validation\n",
    "    verbose=2,\n",
    "    random_state=42,\n",
    "    n_jobs=-1        # Use all processors\n",
    ")\n"
   ]
  },
  {
   "cell_type": "code",
   "execution_count": 10,
   "id": "10026911",
   "metadata": {},
   "outputs": [
    {
     "name": "stdout",
     "output_type": "stream",
     "text": [
      "Fitting 5 folds for each of 50 candidates, totalling 250 fits\n",
      "Best parameters: {'n_estimators': 50, 'min_samples_split': 10, 'min_samples_leaf': 4, 'max_features': 'sqrt', 'max_depth': None, 'bootstrap': False}\n"
     ]
    }
   ],
   "source": [
    "# Fit the RandomizedSearchCV\n",
    "random_search.fit(X_train, y_train)\n",
    "\n",
    "# Get the best parameters\n",
    "best_params = random_search.best_params_\n",
    "print(\"Best parameters:\", best_params)\n",
    "\n",
    "# Train the model with the best parameters\n",
    "best_model = random_search.best_estimator_\n"
   ]
  },
  {
   "cell_type": "code",
   "execution_count": 11,
   "id": "23707312",
   "metadata": {},
   "outputs": [
    {
     "name": "stdout",
     "output_type": "stream",
     "text": [
      "Optimized Model Accuracy: 0.8857142857142857\n",
      "Classification Report:\n",
      "               precision    recall  f1-score   support\n",
      "\n",
      "         0.0       0.94      0.83      0.88        35\n",
      "         1.0       0.85      0.94      0.89        35\n",
      "\n",
      "    accuracy                           0.89        70\n",
      "   macro avg       0.89      0.89      0.89        70\n",
      "weighted avg       0.89      0.89      0.89        70\n",
      "\n"
     ]
    },
    {
     "data": {
      "image/png": "[encoded data removed]",
      "text/plain": [
       "<Figure size 640x480 with 1 Axes>"
      ]
     },
     "metadata": {},
     "output_type": "display_data"
    }
   ],
   "source": [
    "# Predictions on the test set\n",
    "y_pred = best_model.predict(X_test)\n",
    "\n",
    "# Evaluate the performance\n",
    "print(\"Optimized Model Accuracy:\", accuracy_score(y_test, y_pred))\n",
    "print(\"Classification Report:\\n\", classification_report(y_test, y_pred))\n",
    "cm = confusion_matrix(y_test, y_pred)\n",
    "sns.heatmap(cm, annot=True, fmt='d', cmap='Blues', cbar=False)\n",
    "plt.title('Random Forest Confusion Matrix')\n",
    "plt.xlabel('Predicted')\n",
    "plt.ylabel('Actual')\n",
    "plt.show()\n"
   ]
  }
 ],
 "metadata": {
  "kernelspec": {
   "display_name": "Python 3",
   "language": "python",
   "name": "python3"
  },
  "language_info": {
   "codemirror_mode": {
    "name": "ipython",
    "version": 3
   },
   "file_extension": ".py",
   "mimetype": "text/x-python",
   "name": "python",
   "nbconvert_exporter": "python",
   "pygments_lexer": "ipython3",
   "version": "3.11.5"
  }
 },
 "nbformat": 4,
 "nbformat_minor": 5
}
